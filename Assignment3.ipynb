{
  "nbformat": 4,
  "nbformat_minor": 0,
  "metadata": {
    "colab": {
      "name": "Assignment3.ipynb",
      "provenance": [],
      "collapsed_sections": [],
      "authorship_tag": "ABX9TyOKXRlnEWIUC0BLT83MkXd8",
      "include_colab_link": true
    },
    "kernelspec": {
      "name": "python3",
      "display_name": "Python 3"
    }
  },
  "cells": [
    {
      "cell_type": "markdown",
      "metadata": {
        "id": "view-in-github",
        "colab_type": "text"
      },
      "source": [
        "<a href=\"https://colab.research.google.com/github/sreenathk4589/END4NLP/blob/Assignment3/Assignment3.ipynb\" target=\"_parent\"><img src=\"https://colab.research.google.com/assets/colab-badge.svg\" alt=\"Open In Colab\"/></a>"
      ]
    },
    {
      "cell_type": "markdown",
      "metadata": {
        "id": "LObhYM9DJ9x6"
      },
      "source": [
        "Assignment #3"
      ]
    },
    {
      "cell_type": "markdown",
      "metadata": {
        "id": "oysyXL_UKEQh"
      },
      "source": [
        "Q1). Write a function using only list filter lambda that can tell whether a number is a Fibonacci number or not. You can use a pre-calculated list/dict to store fab numbers till 10000 PTS:100"
      ]
    },
    {
      "cell_type": "code",
      "metadata": {
        "id": "0E84OZt0J7WU",
        "outputId": "816f05c4-b674-4f50-834c-4eb9ca22a648",
        "colab": {
          "base_uri": "https://localhost:8080/"
        }
      },
      "source": [
        "# function to check the number in fibonacci list, first argument is number to be\n",
        "# checked and second is the fibonacci list itself\n",
        "fibchk = lambda x, FiboList: True if x in FiboList else False\n",
        "fibonacci_list = []\n",
        "val = 0\n",
        "count =  1\n",
        "#Populate the fibonacci list\n",
        "while val <= 10000:\n",
        "  fibonacci_list.append(val)\n",
        "  val += count\n",
        "  count += 1\n",
        "# Call the function \n",
        "chk = fibchk(7, fibonacci_list)\n",
        "\n",
        "#Print result\n",
        "if chk:\n",
        "  print(\"number is in list\")\n",
        "else:\n",
        "  print(\"number is NOT in list\")"
      ],
      "execution_count": null,
      "outputs": [
        {
          "output_type": "stream",
          "text": [
            "number is NOT in list\n"
          ],
          "name": "stdout"
        }
      ]
    },
    {
      "cell_type": "markdown",
      "metadata": {
        "id": "V-rJiGexRAsO"
      },
      "source": [
        " Q2). Using list comprehension (and zip/lambda/etc if required) write five different expressions that: PTS:100\n",
        "\n",
        "\n",
        "1.   add 2 iterables a and b such that a is even and b is odd \\n\n",
        "1.   strips every vowel from a string provided (tsai>>t s) \n",
        "2.   acts like a ReLU function for a 1D array\n",
        "2.   acts like a sigmoid function for a 1D array\n",
        "3.   takes a small character string and shifts all characters by 5 (handle boundary conditions) tsai>>yxfn\n",
        "\n"
      ]
    },
    {
      "cell_type": "code",
      "metadata": {
        "id": "gSy6XhgXQD7d",
        "outputId": "e6a05ecd-89d4-48bf-b40c-89660180722f",
        "colab": {
          "base_uri": "https://localhost:8080/"
        }
      },
      "source": [
        "# add 2 iterables a and b such that a is even and b is odd \\n\n",
        "import numpy as np\n",
        "\n",
        "a=list(range(1,10,2))\n",
        "b=list(range(0,9,2))\n",
        "c=a+b\n",
        "print(a, b, c) "
      ],
      "execution_count": 3,
      "outputs": [
        {
          "output_type": "stream",
          "text": [
            "[1, 3, 5, 7, 9] [0, 2, 4, 6, 8] [1, 3, 5, 7, 9, 0, 2, 4, 6, 8]\n"
          ],
          "name": "stdout"
        }
      ]
    },
    {
      "cell_type": "code",
      "metadata": {
        "id": "TzGE_IXky9eA",
        "outputId": "fc430586-e82b-4f6d-a026-8280811439e7",
        "colab": {
          "base_uri": "https://localhost:8080/"
        }
      },
      "source": [
        "#strips every vowel from a string provided (tsai>>t s)\n",
        "vowel = list(['a', 'e', 'i', 'o', 'u', 'A', 'E', 'I','O','U'])\n",
        "mystring = \"my strIIIIng\"\n",
        "\n",
        "mystrin_list = ''.join([chr for chr in mystring if chr not in vowel])\n",
        "print(mystring, mystrin_list)"
      ],
      "execution_count": 52,
      "outputs": [
        {
          "output_type": "stream",
          "text": [
            "my strIIIIng my strng\n"
          ],
          "name": "stdout"
        }
      ]
    },
    {
      "cell_type": "code",
      "metadata": {
        "id": "OWEO2DQRFpIw",
        "outputId": "414ad638-c444-4c8c-a9d9-309442244d48",
        "colab": {
          "base_uri": "https://localhost:8080/"
        }
      },
      "source": [
        "#acts like a ReLU function for a 1D array\n",
        "myarray = [-1, -3, 2, 6, 10, -4, 9, -8]\n",
        "relu_out = [i if i>0 else 0 for i in myarray ]\n",
        "print(myarray)\n",
        "print(relu_out)"
      ],
      "execution_count": 46,
      "outputs": [
        {
          "output_type": "stream",
          "text": [
            "[-1, -3, 2, 6, 10, -4, 9, -8]\n",
            "[0, 0, 2, 6, 10, 0, 9, 0]\n"
          ],
          "name": "stdout"
        }
      ]
    },
    {
      "cell_type": "code",
      "metadata": {
        "id": "wuyIotUZf7zR",
        "outputId": "b5049651-7140-4341-e100-dc009bf27258",
        "colab": {
          "base_uri": "https://localhost:8080/"
        }
      },
      "source": [
        "#acts like a sigmoid function for a 1D array\n",
        "import numpy as np\n",
        "myarray = [-1, -3, 2, 6, 10, -4, 9, -8]\n",
        "sigmoid_out = [1/(1+np.exp(-x)) for x in myarray]\n",
        "print(myarray)\n",
        "print(sigmoid_out)"
      ],
      "execution_count": 51,
      "outputs": [
        {
          "output_type": "stream",
          "text": [
            "[-1, -3, 2, 6, 10, -4, 9, -8]\n",
            "[0.2689414213699951, 0.04742587317756678, 0.8807970779778823, 0.9975273768433653, 0.9999546021312976, 0.01798620996209156, 0.9998766054240137, 0.0003353501304664781]\n"
          ],
          "name": "stdout"
        }
      ]
    },
    {
      "cell_type": "code",
      "metadata": {
        "id": "9R_qOJG6izBe",
        "outputId": "ee33d701-37ad-4639-a807-b68ed4e2737f",
        "colab": {
          "base_uri": "https://localhost:8080/"
        }
      },
      "source": [
        "#takes a small character string and shifts all characters by 5 (handle boundary conditions) tsai>>yxfn\n",
        "mystring = 'my xmas zoo'\n",
        "myshiftdstr = ''.join([chr(ord(char[0])+5) for char in mystring])\n",
        "print(mystring, myshiftdstr)"
      ],
      "execution_count": 57,
      "outputs": [
        {
          "output_type": "stream",
          "text": [
            "my xmas zoo r~%}rfx%tt\n"
          ],
          "name": "stdout"
        }
      ]
    },
    {
      "cell_type": "markdown",
      "metadata": {
        "id": "NCS6KtGOklw-"
      },
      "source": [
        "Q3). A list comprehension expression that takes a ~200 word paragraph (write your own paragraph to check), and checks whether it has any of the swear words mentioned in https://github.com/RobertJGabriel/Google-profanity-words/blob/master/list.txt PTS:200"
      ]
    },
    {
      "cell_type": "code",
      "metadata": {
        "id": "mR6dbxOzm8Fj",
        "outputId": "4d2d6620-fe27-4406-c28e-745d1d90533d",
        "colab": {
          "base_uri": "https://localhost:8080/"
        }
      },
      "source": [
        "import pandas as pd\n",
        "#Get the data and swear word list from git\n",
        "urlswrlist = 'https://raw.githubusercontent.com/RobertJGabriel/Google-profanity-words/master/list.txt'\n",
        "urlinputdata = 'https://raw.githubusercontent.com/sreenathk4589/END4NLP/Assignment3/myswearpara.txt'\n",
        "MyParaFrame = pd.read_csv(urlinputdata)\n",
        "MyParaRaw = MyParaFrame.values.tolist()\n",
        "# print(MyParaRaw)\n",
        "#clean data and get words\n",
        "MyParaRawString = ''.join([i for i in MyParaRaw[0] if str(i) != 'nan'])\n",
        "MyParaCleaned = MyParaRawString.split()\n",
        "\n",
        "swrFrame = pd.read_csv(urlswrlist)\n",
        "swrList = swrFrame.values.tolist()\n",
        "swrListCleaned = [data for sub in swrList for data in sub]\n",
        "#check if any words are present\n",
        "chk = [x for x in MyParaCleaned if x in swrListCleaned]\n",
        "print(chk)\n"
      ],
      "execution_count": 32,
      "outputs": [
        {
          "output_type": "stream",
          "text": [
            "['ass', 'fucking']\n"
          ],
          "name": "stdout"
        }
      ]
    },
    {
      "cell_type": "markdown",
      "metadata": {
        "id": "WesaIp_-Wpw2"
      },
      "source": [
        " Q4). Using reduce functions: PTS:100\n",
        "\n",
        "\n",
        "1.   add only even numbers in a list\n",
        "2.   find the biggest character in a string (printable ascii characters)\n",
        "3.   adds every 3rd number in a list"
      ]
    },
    {
      "cell_type": "code",
      "metadata": {
        "id": "B31Z3FbHO5BU",
        "outputId": "2df165a7-7968-412c-a277-61f59a95ffa4",
        "colab": {
          "base_uri": "https://localhost:8080/"
        }
      },
      "source": [
        "# add only even numbers in a list\n",
        "import functools\n",
        "mylst = list(range(1,15,2))\n",
        "def myfunc(a, b):\n",
        "  return a+b\n",
        "totalsum = functools.reduce(myfunc, [x for x in mylst if x%2 == 0], 0)   \n",
        "print(mylst)\n",
        "print(totalsum)\n"
      ],
      "execution_count": 39,
      "outputs": [
        {
          "output_type": "stream",
          "text": [
            "[1, 3, 5, 7, 9, 11, 13]\n",
            "0\n"
          ],
          "name": "stdout"
        }
      ]
    },
    {
      "cell_type": "code",
      "metadata": {
        "id": "KxfGc5y2dSdG",
        "outputId": "5bd5c247-bf6d-4b2f-b1d4-3903156a98ca",
        "colab": {
          "base_uri": "https://localhost:8080/"
        }
      },
      "source": [
        "#find the biggest character in a string (printable ascii characters)\n",
        "import functools\n",
        "import numpy as np\n",
        "mystrin = 'ABCDEFZgfnjljnnbghccjgXuabcdef'\n",
        "def myfunc(ch1, charmax):\n",
        "  #replace charmax with ch if ch has higher ascii value\n",
        "  charmax = ch1 if ord(ch1) > ord(charmax) else charmax\n",
        "  # print(ch1, charmax)\n",
        "  return charmax\n",
        "\n",
        "MaxChar = functools.reduce(myfunc, mystrin, '0')   \n",
        "print(mystrin)\n",
        "print(MaxChar)\n"
      ],
      "execution_count": 54,
      "outputs": [
        {
          "output_type": "stream",
          "text": [
            "ABCDEFZgfnjljnnbghccjgXuabcdef\n",
            "u\n"
          ],
          "name": "stdout"
        }
      ]
    },
    {
      "cell_type": "code",
      "metadata": {
        "id": "jkSFRCdih8B0",
        "outputId": "3d77b485-8f10-4e6b-9b20-6684375fa3a0",
        "colab": {
          "base_uri": "https://localhost:8080/"
        }
      },
      "source": [
        "#adds every 3rd number in a list\n",
        "import functools\n",
        "mylist = list(range(15))\n",
        "print(mylist)\n",
        "total = functools.reduce(lambda a,b: a+b, [mylist[i] for i in range(len(mylist)) if i%3 == 0])\n",
        "print(total)"
      ],
      "execution_count": 57,
      "outputs": [
        {
          "output_type": "stream",
          "text": [
            "[0, 1, 2, 3, 4, 5, 6, 7, 8, 9, 10, 11, 12, 13, 14]\n",
            "30\n"
          ],
          "name": "stdout"
        }
      ]
    },
    {
      "cell_type": "markdown",
      "metadata": {
        "id": "WHoxjg0Rm_la"
      },
      "source": [
        "Q5). Using randint, random.choice and list comprehensions, write an expression that generates 15 random KADDAADDDD number plates, where KA is fixed, D stands for a digit, and A stands for Capital alphabets. 10<<DD<<99 & 1000<<DDDD<<9999"
      ]
    },
    {
      "cell_type": "code",
      "metadata": {
        "id": "3wYwqbMVmYKX",
        "outputId": "60426a28-c008-485b-d7ac-a92b5cf61ca5",
        "colab": {
          "base_uri": "https://localhost:8080/"
        }
      },
      "source": [
        "import random\n",
        "Alphabets = [chr(char) for char in range(65, 91)]\n",
        "# print(Alphabets)\n",
        "#Create data\n",
        "DDDD = [random.randint(1000, 9999) for i in range(15)]\n",
        "DD = [random.randint(10, 99) for i in range(15)]\n",
        "AA = [random.choices(Alphabets, k=2) for i in range(15)]\n",
        "#Create number\n",
        "mynumplatelst = ['KA'+str(DD[i])+AA[i][0]+AA[i][1]+ str(DDDD[i]) for i in range(0,15)]\n",
        "\n",
        "print(mynumplatelst)"
      ],
      "execution_count": 95,
      "outputs": [
        {
          "output_type": "stream",
          "text": [
            "['KA57XD2823', 'KA75FC5613', 'KA90QC3475', 'KA45IH2183', 'KA99HF5400', 'KA85NT8020', 'KA22FN9819', 'KA50WU2430', 'KA36SB7531', 'KA37AN5468', 'KA32TD5693', 'KA91WJ9656', 'KA40IU2942', 'KA45TJ1500', 'KA68XN5598']\n"
          ],
          "name": "stdout"
        }
      ]
    },
    {
      "cell_type": "markdown",
      "metadata": {
        "id": "d-wTVbT1uKv5"
      },
      "source": [
        "Q6). Write the above again from scratch where KA can be changed to DL, and 1000/9999 ranges can be provided. "
      ]
    },
    {
      "cell_type": "code",
      "metadata": {
        "id": "fGO1BcOen2l9",
        "outputId": "9c2670cb-0f35-4375-9dc9-3f18f1343968",
        "colab": {
          "base_uri": "https://localhost:8080/"
        }
      },
      "source": [
        "import random\n",
        "Alphabets = [chr(char) for char in range(65, 91)]\n",
        "# print(Alphabets)\n",
        "#dget console inputs for range and state code\n",
        "state = input('Enter state DL/KA: ')\n",
        "num_rng_strt = input('Enter number range start: ')\n",
        "num_rng_end = input('Enter number range end: ')\n",
        "dit_rng_strt = input('Enter distcode range start: ')\n",
        "dit_rng_end = input('Enter distcode range end: ')\n",
        "print(type(num_rng_strt), type(num_rng_end))\n",
        "#Create data\n",
        "DDDD = [random.randint(int(num_rng_strt), int(num_rng_end)) for i in range(15)]\n",
        "DD = [random.randint(int(dit_rng_strt), int(dit_rng_end)) for i in range(15)]\n",
        "AA = [random.choices(Alphabets, k=2) for i in range(15)]\n",
        "\n",
        "#Create number\n",
        "mynumplatelst = [state+str(DD[i])+AA[i][0]+AA[i][1]+ str(DDDD[i]) for i in range(0,15)]\n",
        "\n",
        "print(mynumplatelst)"
      ],
      "execution_count": 94,
      "outputs": [
        {
          "output_type": "stream",
          "text": [
            "Enter state DL/KA: KA\n",
            "Enter number range start: 1001\n",
            "Enter number range end: 1002\n",
            "Enter distcode range start: 12\n",
            "Enter distcode range end: 13\n",
            "<class 'str'> <class 'str'>\n",
            "['KA12QU1002', 'KA12VP1002', 'KA13NV1001', 'KA12RZ1002', 'KA13WZ1002', 'KA12CM1001', 'KA13UY1001', 'KA12UN1001', 'KA13SB1002', 'KA13AL1001', 'KA13ZA1001', 'KA12JM1002', 'KA12VY1002', 'KA13JS1001', 'KA12EN1001']\n"
          ],
          "name": "stdout"
        }
      ]
    },
    {
      "cell_type": "code",
      "metadata": {
        "id": "MnJNfVCkwbGM"
      },
      "source": [
        "12\n"
      ],
      "execution_count": null,
      "outputs": []
    }
  ]
}