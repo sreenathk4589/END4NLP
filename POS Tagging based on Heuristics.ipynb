{
  "nbformat": 4,
  "nbformat_minor": 0,
  "metadata": {
    "colab": {
      "name": "POS Tagging based on Heuristics.ipynb",
      "provenance": [],
      "collapsed_sections": []
    },
    "kernelspec": {
      "name": "python3",
      "display_name": "Python 3"
    }
  },
  "cells": [
    {
      "cell_type": "markdown",
      "metadata": {
        "id": "mM0Ka5OWjTtn"
      },
      "source": [
        "##Import necessary Libraries"
      ]
    },
    {
      "cell_type": "code",
      "metadata": {
        "id": "HUkH-XafjF18",
        "cellView": "both"
      },
      "source": [
        "import nltk\n",
        "from nltk.tokenize import word_tokenize\n",
        "from nltk.tag import pos_tag\n",
        "from nltk.chunk import ne_chunk\n",
        "nltk.download('punkt')\n",
        "nltk.download('averaged_perceptron_tagger')"
      ],
      "execution_count": null,
      "outputs": []
    },
    {
      "cell_type": "markdown",
      "metadata": {
        "id": "CnfJWQfEjn89"
      },
      "source": [
        "## A sentence under consideration for Information Extraction (NER)"
      ]
    },
    {
      "cell_type": "code",
      "metadata": {
        "id": "1nOjV-QMjlBF"
      },
      "source": [
        "sentence = 'Virat Kohli is an Indian cricketer who currently captains the India national team. A right-handed top-order batsman, Kohli is regarded as one of the best batsmen in the world'"
      ],
      "execution_count": 2,
      "outputs": []
    },
    {
      "cell_type": "markdown",
      "metadata": {
        "id": "wwc64Wajjv95"
      },
      "source": [
        "## Apply word tokenization and part-of-speech tagging to the sentence"
      ]
    },
    {
      "cell_type": "code",
      "metadata": {
        "id": "rrJPkc2MjtwW"
      },
      "source": [
        "def preprocess(sent):\n",
        "    sent =  word_tokenize(sent)# TOKENIZE THE SENTENCE\n",
        "    sent = pos_tag(sent)# GET POS TAG OF THE SENTENCE\n",
        "    return sent"
      ],
      "execution_count": 5,
      "outputs": []
    },
    {
      "cell_type": "code",
      "metadata": {
        "id": "xKv51GotjyZU",
        "outputId": "00109ac5-5265-4884-f539-c6de3dcc87d1",
        "colab": {
          "base_uri": "https://localhost:8080/",
          "height": 586
        }
      },
      "source": [
        "sent = preprocess(sentence)\n",
        "sent"
      ],
      "execution_count": 6,
      "outputs": [
        {
          "output_type": "execute_result",
          "data": {
            "text/plain": [
              "[('Virat', 'NNP'),\n",
              " ('Kohli', 'NNP'),\n",
              " ('is', 'VBZ'),\n",
              " ('an', 'DT'),\n",
              " ('Indian', 'JJ'),\n",
              " ('cricketer', 'NN'),\n",
              " ('who', 'WP'),\n",
              " ('currently', 'RB'),\n",
              " ('captains', 'VBZ'),\n",
              " ('the', 'DT'),\n",
              " ('India', 'NNP'),\n",
              " ('national', 'JJ'),\n",
              " ('team', 'NN'),\n",
              " ('.', '.'),\n",
              " ('A', 'DT'),\n",
              " ('right-handed', 'JJ'),\n",
              " ('top-order', 'NN'),\n",
              " ('batsman', 'NN'),\n",
              " (',', ','),\n",
              " ('Kohli', 'NNP'),\n",
              " ('is', 'VBZ'),\n",
              " ('regarded', 'VBN'),\n",
              " ('as', 'IN'),\n",
              " ('one', 'CD'),\n",
              " ('of', 'IN'),\n",
              " ('the', 'DT'),\n",
              " ('best', 'JJS'),\n",
              " ('batsmen', 'NNS'),\n",
              " ('in', 'IN'),\n",
              " ('the', 'DT'),\n",
              " ('world', 'NN')]"
            ]
          },
          "metadata": {
            "tags": []
          },
          "execution_count": 6
        }
      ]
    },
    {
      "cell_type": "markdown",
      "metadata": {
        "id": "5ZfnCIBOlP32"
      },
      "source": [
        "## Plot a Parse Tree"
      ]
    },
    {
      "cell_type": "code",
      "metadata": {
        "id": "3SFMBOJhj0kD",
        "outputId": "bb2cef06-d507-4664-c1a2-6c330f0f94ee",
        "colab": {
          "base_uri": "https://localhost:8080/",
          "height": 35
        }
      },
      "source": [
        "# install required system dependencies\n",
        "# !echo $DISPLAY\n",
        "# !pip install -y xvfb x11-utils# install required python dependencies\n",
        "# !pip install gym[box2d]==0.17.* \\\n",
        "#             pyvirtualdisplay==0.2.* \\\n",
        "#             PyOpenGL==3.1.* \\\n",
        "#             PyOpenGL-accelerate==3.1.*\n",
        "\n",
        "# import pyvirtualdisplay\n",
        "\n",
        "\n",
        "# _display = pyvirtualdisplay.Display(visible=False,  # use False with Xvfb\n",
        "#                                     size=(1400, 900))\n",
        "# _ = _display.start()\n",
        "\n",
        "!echo $DISPLAY\n",
        "# pattern = 'NP: {<DT>?<JJ>*<NN>}'\n",
        "# NPChunker =  nltk.RegexpParser(pattern) # Regex Parse using the pattern\n",
        "# result = NPChunker.parse(sent)\n",
        "# result.draw()"
      ],
      "execution_count": 16,
      "outputs": [
        {
          "output_type": "stream",
          "text": [
            "\n"
          ],
          "name": "stdout"
        }
      ]
    },
    {
      "cell_type": "markdown",
      "metadata": {
        "id": "mzfWmM0s3qLQ"
      },
      "source": [
        "## POS Tags"
      ]
    },
    {
      "cell_type": "code",
      "metadata": {
        "id": "6lUv0-IX0V-v"
      },
      "source": [
        "from nltk.chunk import conlltags2tree, tree2conlltags\n",
        "from pprint import pprint\n",
        "iob_tagged = tree2conlltags(cs)\n",
        "pprint(iob_tagged)"
      ],
      "execution_count": null,
      "outputs": []
    },
    {
      "cell_type": "markdown",
      "metadata": {
        "id": "GsWTk0dX4DN8"
      },
      "source": [
        "**This is how Information is extracted using heuristics based techniques. Try using another pattern.**"
      ]
    },
    {
      "cell_type": "code",
      "metadata": {
        "id": "hGPurTlb3tWd"
      },
      "source": [
        ""
      ],
      "execution_count": null,
      "outputs": []
    }
  ]
}